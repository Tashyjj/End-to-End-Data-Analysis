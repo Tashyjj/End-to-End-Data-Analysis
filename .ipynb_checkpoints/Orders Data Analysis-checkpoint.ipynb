{
 "cells": [
  {
   "cell_type": "code",
   "execution_count": 7,
   "id": "6529e301-9061-403c-a7fb-36f533e7bb81",
   "metadata": {},
   "outputs": [
    {
     "name": "stdout",
     "output_type": "stream",
     "text": [
      "Dataset URL: https://www.kaggle.com/datasets/ankitbansal06/retail-orders\n",
      "License(s): CC0-1.0\n",
      "Downloading orders.csv.zip to C:\\Users\\onii-chan\\Documents\\SQL + Python\n",
      "\n"
     ]
    },
    {
     "name": "stderr",
     "output_type": "stream",
     "text": [
      "\n",
      "  0%|          | 0.00/200k [00:00<?, ?B/s]\n",
      "100%|##########| 200k/200k [00:00<00:00, 3.69MB/s]\n"
     ]
    }
   ],
   "source": [
    "#!pip install kaggle\n",
    "import kaggle\n",
    "\n",
    "!kaggle datasets download ankitbansal06/retail-orders -f orders.csv"
   ]
  },
  {
   "cell_type": "code",
   "execution_count": 61,
   "id": "c3285705-1eb1-4b5c-963b-8ec815efdd3a",
   "metadata": {},
   "outputs": [],
   "source": [
    "#downloading the dataset\n",
    "#import zipfile\n",
    "#zip_ref = zipfile.ZipFile('orders.csv.zip')\n",
    "#zip_ref.extractall() #can put a path here?\n",
    "#zip_ref.close()"
   ]
  },
  {
   "cell_type": "code",
   "execution_count": 59,
   "id": "2814aea6-b1dd-473f-8d26-020f1ed100b4",
   "metadata": {},
   "outputs": [],
   "source": [
    "#reading the dataset\n",
    "import pandas as pd\n",
    "#df = pd.read_csv('orders.csv',  na_values=['Not Available','unknown'])\n",
    "#df['Ship Mode'].unique() #this shows the unique titles under Ship Mode"
   ]
  },
  {
   "cell_type": "code",
   "execution_count": 70,
   "id": "67db27f8-4ecf-44f8-9b8c-3c2282d7506b",
   "metadata": {},
   "outputs": [],
   "source": [
    "#cleaning the data\n",
    "#df.rename(columns={'Order Id':'order_id', 'City':'city'})\n",
    "#df.columns=df.columns.str.lower()\n",
    "#df.columns=df.columns.str.replace(' ','_')"
   ]
  },
  {
   "cell_type": "code",
   "execution_count": 108,
   "id": "827f5e1c-4caf-4861-a3b7-0e2503541f4f",
   "metadata": {},
   "outputs": [],
   "source": [
    "#finding the discount, sale price, and profit, essentially prepping the data\n",
    "#df['discount'] = df['list_price']*df['discount_percent']/100\n",
    "#df['sale_price'] = df['list_price']-df['discount']\n",
    "#df['profit'] = df['sale_price']-df['cost_price']"
   ]
  },
  {
   "cell_type": "code",
   "execution_count": 100,
   "id": "81d65275-4b92-4afc-9b00-84fe7f4a84cb",
   "metadata": {},
   "outputs": [],
   "source": [
    "#cleaning the date datatype (from object to datetime)\n",
    "#df['order_date']=pd.to_datetime(df['order_date'],format=\"%Y-%m-%d\")"
   ]
  },
  {
   "cell_type": "code",
   "execution_count": 102,
   "id": "444637ce-77fd-4065-a4f3-4d017380b36f",
   "metadata": {},
   "outputs": [],
   "source": [
    "#dropping the columns I dont need\n",
    "#df.drop(columns=['list_price','discount_percent','cost_price'],inplace=True)\n",
    "#inplace = True to update the table to this change instead of creating a new table"
   ]
  },
  {
   "cell_type": "code",
   "execution_count": 112,
   "id": "363be8ad-e7d7-4d92-af21-7c4309e8a9a9",
   "metadata": {},
   "outputs": [],
   "source": [
    "#establishing a conenction to the sql server\n",
    "#import sqlalchemy as sal\n",
    "#engine = sal.create_engine('mssql://DESKTOP-EKDC8UP/master?driver=ODBC+DRIVER+17+FOR+SQL+SERVER')\n",
    "#conn=engine.connect()"
   ]
  },
  {
   "cell_type": "code",
   "execution_count": 118,
   "id": "46b810d8-7d6f-464b-9b15-b3f7871e58d9",
   "metadata": {},
   "outputs": [
    {
     "data": {
      "text/plain": [
       "38"
      ]
     },
     "execution_count": 118,
     "metadata": {},
     "output_type": "execute_result"
    }
   ],
   "source": [
    "#loading the data into a sql server!! finally\n",
    "df.to_sql('df_orders', con=conn, index=False, if_exists = 'append') #I had replace but it seems to make a large table\n",
    "#gonna recreate a smaller table then append this data into that"
   ]
  },
  {
   "cell_type": "code",
   "execution_count": null,
   "id": "88b24585-518c-4f53-8019-e84b656c7dd3",
   "metadata": {},
   "outputs": [],
   "source": []
  }
 ],
 "metadata": {
  "kernelspec": {
   "display_name": "Python 3 (ipykernel)",
   "language": "python",
   "name": "python3"
  },
  "language_info": {
   "codemirror_mode": {
    "name": "ipython",
    "version": 3
   },
   "file_extension": ".py",
   "mimetype": "text/x-python",
   "name": "python",
   "nbconvert_exporter": "python",
   "pygments_lexer": "ipython3",
   "version": "3.12.4"
  }
 },
 "nbformat": 4,
 "nbformat_minor": 5
}
